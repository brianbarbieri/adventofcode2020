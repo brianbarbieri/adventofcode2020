{
 "metadata": {
  "language_info": {
   "codemirror_mode": {
    "name": "ipython",
    "version": 3
   },
   "file_extension": ".py",
   "mimetype": "text/x-python",
   "name": "python",
   "nbconvert_exporter": "python",
   "pygments_lexer": "ipython3",
   "version": "3.7.5-final"
  },
  "orig_nbformat": 2,
  "kernelspec": {
   "name": "python3",
   "display_name": "Python 3"
  }
 },
 "nbformat": 4,
 "nbformat_minor": 2,
 "cells": [
  {
   "cell_type": "code",
   "execution_count": 63,
   "metadata": {},
   "outputs": [],
   "source": [
    "with open(\"data.txt\", \"r\") as r:\n",
    "    data = [p.replace(\"\\n\", \"\") for p in r.readlines()]\n",
    "# data = \"\"\"1-3 a: abcde\n",
    "# 1-3 b: cdefg\n",
    "# 2-9 c: ccccccccc\"\"\".split(\"\\n\")"
   ]
  },
  {
   "cell_type": "code",
   "execution_count": 64,
   "metadata": {},
   "outputs": [
    {
     "output_type": "stream",
     "name": "stdout",
     "text": [
      "434 passwords allowed\n"
     ]
    }
   ],
   "source": [
    "# part 1\n",
    "rules, passwords = zip(*[dp.split(\":\")for dp in data])\n",
    "\n",
    "counts = 0\n",
    "for rule, password in zip([rule.split(\" \") for rule in rules], passwords):\n",
    "    minr, maxr = rule[0].split(\"-\")\n",
    "    minr, maxr = int(minr), int(maxr)\n",
    "    counts += int(minr <= password.count(rule[1]) <= maxr)\n",
    "print(f\"{counts} passwords allowed\")"
   ]
  },
  {
   "cell_type": "code",
   "execution_count": 65,
   "metadata": {},
   "outputs": [
    {
     "output_type": "stream",
     "name": "stdout",
     "text": [
      "509 passwords allowed\n"
     ]
    }
   ],
   "source": [
    "# part 2\n",
    "\n",
    "counts = 0\n",
    "for rule, password in zip([rule.split(\" \") for rule in rules], passwords):\n",
    "    password = password.strip()\n",
    "    minr, maxr = rule[0].split(\"-\")\n",
    "    minr, maxr = int(minr), int(maxr)\n",
    "    counts += int(password[minr-1] == rule[1]) ^ int(password[maxr-1] == rule[1])\n",
    "\n",
    "print(f\"{counts} passwords allowed\")"
   ]
  },
  {
   "cell_type": "code",
   "execution_count": 54,
   "metadata": {},
   "outputs": [
    {
     "output_type": "execute_result",
     "data": {
      "text/plain": [
       "' '"
      ]
     },
     "metadata": {},
     "execution_count": 54
    }
   ],
   "source": [
    "password[0]"
   ]
  },
  {
   "cell_type": "code",
   "execution_count": null,
   "metadata": {},
   "outputs": [],
   "source": []
  }
 ]
}