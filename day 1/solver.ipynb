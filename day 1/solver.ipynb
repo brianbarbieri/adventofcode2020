{
 "metadata": {
  "language_info": {
   "codemirror_mode": {
    "name": "ipython",
    "version": 3
   },
   "file_extension": ".py",
   "mimetype": "text/x-python",
   "name": "python",
   "nbconvert_exporter": "python",
   "pygments_lexer": "ipython3",
   "version": "3.7.5-final"
  },
  "orig_nbformat": 2,
  "kernelspec": {
   "name": "python3",
   "display_name": "Python 3"
  }
 },
 "nbformat": 4,
 "nbformat_minor": 2,
 "cells": [
  {
   "cell_type": "code",
   "execution_count": 1,
   "metadata": {},
   "outputs": [
    {
     "output_type": "stream",
     "name": "stdout",
     "text": [
      "Answer is: 902451\n"
     ]
    }
   ],
   "source": [
    "# part 1\n",
    "\n",
    "with open(\"data.txt\", \"r\") as r:\n",
    "    data = sorted([int(p.replace(\"\\n\", \"\")) for p in r.readlines()])\n",
    "\n",
    "mini = 0\n",
    "maxi = -1\n",
    "while mini != len(data):\n",
    "    if data[mini] + data[maxi] == 2020:\n",
    "        print(f\"Answer is: {data[mini] * data[maxi]}\")\n",
    "        break\n",
    "    elif data[mini] + data[maxi] > 2020:\n",
    "        maxi -= 1\n",
    "    else:\n",
    "        mini += 1\n",
    "\n"
   ]
  },
  {
   "cell_type": "code",
   "execution_count": 4,
   "metadata": {},
   "outputs": [
    {
     "output_type": "stream",
     "name": "stdout",
     "text": [
      "Answer is: 85555470\n"
     ]
    }
   ],
   "source": [
    "# part 2\n",
    "\n",
    "import numpy as np\n",
    "\n",
    "with open(\"data.txt\", \"r\") as r:\n",
    "    data = np.array(sorted([int(p.replace(\"\\n\", \"\")) for p in r.readlines()]))\n",
    "\n",
    "\n",
    "i = 0\n",
    "data = data[i+1:][data[i+1:] + data[i] < 2020]\n",
    "j, k = np.where(np.add.outer(data,data) + data[i] == 2020)[0]\n",
    "print(f\"Answer is: {data[i] * data[j] * data[k]}\")"
   ]
  },
  {
   "cell_type": "code",
   "execution_count": null,
   "metadata": {},
   "outputs": [],
   "source": []
  }
 ]
}