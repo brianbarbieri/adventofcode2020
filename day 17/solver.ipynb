{
 "metadata": {
  "language_info": {
   "codemirror_mode": {
    "name": "ipython",
    "version": 3
   },
   "file_extension": ".py",
   "mimetype": "text/x-python",
   "name": "python",
   "nbconvert_exporter": "python",
   "pygments_lexer": "ipython3",
   "version": "3.7.5-final"
  },
  "orig_nbformat": 2,
  "kernelspec": {
   "name": "python3",
   "display_name": "Python 3.7.5 64-bit",
   "metadata": {
    "interpreter": {
     "hash": "28e29083dba6c505f2c0c3ef6a15213a3325434cd0dcd541212018311d29dc30"
    }
   }
  }
 },
 "nbformat": 4,
 "nbformat_minor": 2,
 "cells": [
  {
   "cell_type": "code",
   "execution_count": 241,
   "metadata": {},
   "outputs": [],
   "source": [
    "import numpy as np\n",
    "import math"
   ]
  },
  {
   "cell_type": "code",
   "execution_count": 243,
   "metadata": {},
   "outputs": [
    {
     "output_type": "stream",
     "name": "stdout",
     "text": [
      "324.0\n"
     ]
    }
   ],
   "source": [
    "#part 1\n",
    "with open(\"data.txt\", \"r\") as r:\n",
    "    data = [l.replace(\"\\n\", \"\") for l in r.readlines()]\n",
    "    source = np.array([[[int(elem) for elem in l.replace(\".\", \"0\").replace(\"#\", \"1\")] for l in data]])\n",
    "\n",
    "def change_states(a):\n",
    "    new_state = np.zeros(a.shape)\n",
    "    for i in range(a.shape[0]):\n",
    "        for j in range(a.shape[1]):\n",
    "            for k in range(a.shape[2]):\n",
    "                kernel_value = a[max(0,i-1):min(a.shape[0], i+2),max(0,j-1):min(a.shape[1], j+2),max(0,k-1):min(a.shape[2], k+2)].sum() - a[i,j,k] \n",
    "                if a[i,j,k] == 1: # if active\n",
    "                    if kernel_value in [2, 3]:\n",
    "                        new_state[i,j,k] = 1\n",
    "                    else:\n",
    "                        new_state[i,j,k] = 0\n",
    "                else: # if not active\n",
    "                    if kernel_value == 3:\n",
    "                        new_state[i,j,k] = 1\n",
    "                    else:\n",
    "                        new_state[i,j,k] = 0\n",
    "    return new_state\n",
    "\n",
    "for c in range(6):\n",
    "    next_cycle = np.zeros((source.shape[0]+2, source.shape[1]+2, source.shape[2]+2))\n",
    "    next_cycle[1:-1,1:-1,1:-1] = source\n",
    "    source = change_states(next_cycle)\n",
    "print(source.sum())\n",
    "    "
   ]
  },
  {
   "cell_type": "code",
   "execution_count": 245,
   "metadata": {},
   "outputs": [
    {
     "output_type": "stream",
     "name": "stdout",
     "text": [
      "117.0\n"
     ]
    }
   ],
   "source": [
    "#part 2\n",
    "with open(\"data.txt\", \"r\") as r:\n",
    "    data = [l.replace(\"\\n\", \"\") for l in r.readlines()]\n",
    "    source = np.array([[[[int(elem) for elem in l.replace(\".\", \"0\").replace(\"#\", \"1\")] for l in data]]])\n",
    "\n",
    "def change_states(a):\n",
    "    new_state = np.zeros(a.shape)\n",
    "    for i in range(a.shape[0]):\n",
    "        for j in range(a.shape[1]):\n",
    "            for k in range(a.shape[2]):\n",
    "                for l in range(a.shape[3]):\n",
    "                    kernel_value = a[max(0,i-1):min(a.shape[0], i+2),max(0,j-1):min(a.shape[1], j+2),max(0,k-1):min(a.shape[2], k+2),max(0,l-1):min(a.shape[3], k+2)].sum() - a[i,j,k,l] \n",
    "                    if a[i,j,k,l] == 1: # if active\n",
    "                        if kernel_value in [2, 3]:\n",
    "                            new_state[i,j,k,l] = 1\n",
    "                        else:\n",
    "                            new_state[i,j,k,l] = 0\n",
    "                    else: # if not active\n",
    "                        if kernel_value == 3:\n",
    "                            new_state[i,j,k,l] = 1\n",
    "                        else:\n",
    "                            new_state[i,j,k,l] = 0\n",
    "        return new_state\n",
    "\n",
    "for c in range(6):\n",
    "    next_cycle = np.zeros((source.shape[0]+2, source.shape[1]+2, source.shape[2]+2, source.shape[3]+2))\n",
    "    next_cycle[1:-1,1:-1,1:-1,1:-1] = source\n",
    "    source = change_states(next_cycle)\n",
    "print(source.sum())"
   ]
  },
  {
   "cell_type": "code",
   "execution_count": null,
   "metadata": {},
   "outputs": [],
   "source": []
  }
 ]
}