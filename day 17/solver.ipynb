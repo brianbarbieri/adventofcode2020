{
 "metadata": {
  "language_info": {
   "codemirror_mode": {
    "name": "ipython",
    "version": 3
   },
   "file_extension": ".py",
   "mimetype": "text/x-python",
   "name": "python",
   "nbconvert_exporter": "python",
   "pygments_lexer": "ipython3",
   "version": "3.7.5-final"
  },
  "orig_nbformat": 2,
  "kernelspec": {
   "name": "python3",
   "display_name": "Python 3.7.5 64-bit",
   "metadata": {
    "interpreter": {
     "hash": "28e29083dba6c505f2c0c3ef6a15213a3325434cd0dcd541212018311d29dc30"
    }
   }
  }
 },
 "nbformat": 4,
 "nbformat_minor": 2,
 "cells": [
  {
   "cell_type": "code",
   "execution_count": 1,
   "metadata": {},
   "outputs": [],
   "source": [
    "import numpy as np\n",
    "import math"
   ]
  },
  {
   "cell_type": "code",
   "execution_count": 16,
   "metadata": {},
   "outputs": [
    {
     "output_type": "stream",
     "name": "stdout",
     "text": [
      "96.1 ms ± 2.5 ms per loop (mean ± std. dev. of 7 runs, 10 loops each)\n"
     ]
    }
   ],
   "source": [
    "%%timeit\n",
    "#part 1\n",
    "with open(\"data.txt\", \"r\") as r:\n",
    "    data = [l.replace(\"\\n\", \"\") for l in r.readlines()]\n",
    "    source = np.array([[[int(elem) for elem in l.replace(\".\", \"0\").replace(\"#\", \"1\")] for l in data]])\n",
    "\n",
    "def change_states(a):\n",
    "    new_state = np.zeros(a.shape)\n",
    "    for i in range(a.shape[0]):\n",
    "        for j in range(a.shape[1]):\n",
    "            for k in range(a.shape[2]):\n",
    "                kernel_value = a[max(0,i-1):min(a.shape[0], i+2),max(0,j-1):min(a.shape[1], j+2),max(0,k-1):min(a.shape[2], k+2)].sum() - a[i,j,k] \n",
    "                if a[i,j,k] == 1: # if active\n",
    "                    if kernel_value in [2, 3]:\n",
    "                        new_state[i,j,k] = 1\n",
    "                    else:\n",
    "                        new_state[i,j,k] = 0\n",
    "                else: # if not active\n",
    "                    if kernel_value == 3:\n",
    "                        new_state[i,j,k] = 1\n",
    "                    else:\n",
    "                        new_state[i,j,k] = 0\n",
    "    return new_state\n",
    "\n",
    "for c in range(6):\n",
    "    next_cycle = np.zeros((source.shape[0]+2, source.shape[1]+2, source.shape[2]+2))\n",
    "    next_cycle[1:-1,1:-1,1:-1] = source\n",
    "    source = change_states(next_cycle)\n",
    "# print(source.sum())    "
   ]
  },
  {
   "cell_type": "code",
   "execution_count": 5,
   "metadata": {},
   "outputs": [
    {
     "output_type": "stream",
     "name": "stdout",
     "text": [
      "1.13 s ± 21 ms per loop (mean ± std. dev. of 7 runs, 1 loop each)\n"
     ]
    }
   ],
   "source": [
    "%%timeit\n",
    "#part 2\n",
    "with open(\"data.txt\", \"r\") as r:\n",
    "    data = [l.replace(\"\\n\", \"\") for l in r.readlines()]\n",
    "    source = np.array([[[[int(elem) for elem in l.replace(\".\", \"0\").replace(\"#\", \"1\")] for l in data]]])\n",
    "\n",
    "def change_states(a):\n",
    "    new_state = np.zeros(a.shape)\n",
    "    for i in range(a.shape[0]):\n",
    "        for j in range(a.shape[1]):\n",
    "            for k in range(a.shape[2]):\n",
    "                for l in range(a.shape[3]):\n",
    "                    kernel_value = a[max(0,i-1):min(a.shape[0], i+2),max(0,j-1):min(a.shape[1], j+2),max(0,k-1):min(a.shape[2], k+2),max(0,l-1):min(a.shape[3], l+2)].sum() - a[i,j,k,l] \n",
    "                    if a[i,j,k,l] == 1: # if active\n",
    "                        if kernel_value in [2, 3]:\n",
    "                            new_state[i,j,k,l] = 1\n",
    "                        else:\n",
    "                            new_state[i,j,k,l] = 0\n",
    "                    else: # if not active\n",
    "                        if kernel_value == 3:\n",
    "                            new_state[i,j,k,l] = 1\n",
    "                        else:\n",
    "                            new_state[i,j,k,l] = 0\n",
    "    return new_state\n",
    "\n",
    "for c in range(6):\n",
    "    next_cycle = np.zeros((source.shape[0]+2, source.shape[1]+2, source.shape[2]+2, source.shape[3]+2))\n",
    "    next_cycle[1:-1,1:-1,1:-1,1:-1] = source\n",
    "    source = change_states(next_cycle)\n",
    "# print(source.sum())"
   ]
  },
  {
   "cell_type": "code",
   "execution_count": 2,
   "metadata": {},
   "outputs": [],
   "source": [
    "%load_ext Cython"
   ]
  },
  {
   "cell_type": "code",
   "execution_count": 9,
   "metadata": {},
   "outputs": [],
   "source": [
    "%%cython\n",
    "\n",
    "# full function\n",
    "cimport numpy as np\n",
    "import numpy as np\n",
    "\n",
    "cpdef np.ndarray change_states_p1(np.ndarray a):\n",
    "    cdef np.ndarray new_state\n",
    "    cdef size_t i, j, k\n",
    "\n",
    "    new_state = np.zeros((a.shape[0], a.shape[1], a.shape[2]))\n",
    "    for i in range(a.shape[0]):\n",
    "        for j in range(a.shape[1]):\n",
    "            for k in range(a.shape[2]):\n",
    "                kernel_value = a[max(0,i-1):min(a.shape[0], i+2),max(0,j-1):min(a.shape[1], j+2),max(0,k-1):min(a.shape[2], k+2)].sum() - a[i,j,k] \n",
    "                if a[i,j,k] == 1: # if active\n",
    "                    if kernel_value in [2, 3]:\n",
    "                        new_state[i,j,k] = 1\n",
    "                    else:\n",
    "                        new_state[i,j,k] = 0\n",
    "                else: # if not active\n",
    "                    if kernel_value == 3:\n",
    "                        new_state[i,j,k] = 1\n",
    "                    else:\n",
    "                        new_state[i,j,k] = 0\n",
    "    return new_state\n",
    "\n",
    "cpdef np.ndarray change_states_p2(np.ndarray a):\n",
    "    cdef np.ndarray new_state\n",
    "    cdef size_t i, j, k, l\n",
    "\n",
    "    new_state = np.zeros((a.shape[0], a.shape[1], a.shape[2], a.shape[3]))\n",
    "    for i in range(a.shape[0]):\n",
    "        for j in range(a.shape[1]):\n",
    "            for k in range(a.shape[2]):\n",
    "                for l in range(a.shape[3]):\n",
    "                    kernel_value = a[max(0,i-1):min(a.shape[0], i+2),max(0,j-1):min(a.shape[1], j+2),max(0,k-1):min(a.shape[2], k+2),max(0,l-1):min(a.shape[3], l+2)].sum() - a[i,j,k,l] \n",
    "                    if a[i,j,k,l] == 1: # if active\n",
    "                        if kernel_value in [2, 3]:\n",
    "                            new_state[i,j,k,l] = 1\n",
    "                        else:\n",
    "                            new_state[i,j,k,l] = 0\n",
    "                    else: # if not active\n",
    "                        if kernel_value == 3:\n",
    "                            new_state[i,j,k,l] = 1\n",
    "                        else:\n",
    "                            new_state[i,j,k,l] = 0\n",
    "    return new_state"
   ]
  },
  {
   "cell_type": "code",
   "execution_count": 4,
   "metadata": {},
   "outputs": [
    {
     "output_type": "stream",
     "name": "stdout",
     "text": [
      "67.4 ms ± 3.46 ms per loop (mean ± std. dev. of 7 runs, 10 loops each)\n"
     ]
    }
   ],
   "source": [
    "%%timeit\n",
    "\n",
    "with open(\"data.txt\", \"r\") as r:\n",
    "    data = [l.replace(\"\\n\", \"\") for l in r.readlines()]\n",
    "    source = np.array([[[int(elem) for elem in l.replace(\".\", \"0\").replace(\"#\", \"1\")] for l in data]])\n",
    "\n",
    "for c in range(6):\n",
    "    next_cycle = np.zeros((source.shape[0]+2, source.shape[1]+2, source.shape[2]+2))\n",
    "    next_cycle[1:-1,1:-1,1:-1] = source\n",
    "    source = change_states_p1(next_cycle)\n",
    "# print(source.sum())    "
   ]
  },
  {
   "cell_type": "code",
   "execution_count": 7,
   "metadata": {},
   "outputs": [
    {
     "output_type": "stream",
     "name": "stdout",
     "text": [
      "735 ms ± 10 ms per loop (mean ± std. dev. of 7 runs, 1 loop each)\n"
     ]
    }
   ],
   "source": [
    "%%timeit\n",
    "#part 2\n",
    "with open(\"data.txt\", \"r\") as r:\n",
    "    data = [l.replace(\"\\n\", \"\") for l in r.readlines()]\n",
    "    source = np.array([[[[int(elem) for elem in l.replace(\".\", \"0\").replace(\"#\", \"1\")] for l in data]]])\n",
    "\n",
    "for c in range(6):\n",
    "    next_cycle = np.zeros((source.shape[0]+2, source.shape[1]+2, source.shape[2]+2, source.shape[3]+2))\n",
    "    next_cycle[1:-1,1:-1,1:-1,1:-1] = source\n",
    "    source = change_states_p2(next_cycle)\n",
    "# print(source.sum())"
   ]
  },
  {
   "cell_type": "code",
   "execution_count": null,
   "metadata": {},
   "outputs": [],
   "source": []
  }
 ]
}