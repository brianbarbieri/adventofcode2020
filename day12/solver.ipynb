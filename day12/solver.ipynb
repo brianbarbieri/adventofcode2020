{
 "metadata": {
  "language_info": {
   "codemirror_mode": {
    "name": "ipython",
    "version": 3
   },
   "file_extension": ".py",
   "mimetype": "text/x-python",
   "name": "python",
   "nbconvert_exporter": "python",
   "pygments_lexer": "ipython3",
   "version": "3.7.5-final"
  },
  "orig_nbformat": 2,
  "kernelspec": {
   "name": "python3",
   "display_name": "Python 3.7.5 64-bit",
   "metadata": {
    "interpreter": {
     "hash": "28e29083dba6c505f2c0c3ef6a15213a3325434cd0dcd541212018311d29dc30"
    }
   }
  }
 },
 "nbformat": 4,
 "nbformat_minor": 2,
 "cells": [
  {
   "cell_type": "code",
   "execution_count": 45,
   "metadata": {},
   "outputs": [],
   "source": [
    "with open(\"data.txt\", \"r\") as r:\n",
    "    data = [l.replace(\"\\n\", \"\") for l in r.readlines()]\n",
    "\n",
    "instructions = [(d[0], int(d[1:])) for d in data]"
   ]
  },
  {
   "source": [
    "# part 1\n",
    "direction = {\n",
    "    0 : \"N\",\n",
    "    90 : \"W\",\n",
    "    180 : \"S\",\n",
    "    270 : \"E\"\n",
    "}\n",
    "\n",
    "x_s, y_s, a = 0, 0, 270\n",
    "# x = \"F\"\n",
    "# d = 10\n",
    "\n",
    "\n",
    "for ins in instructions:\n",
    "    x = ins[0]\n",
    "    d = ins[1]\n",
    "\n",
    "    if x in [\"L\",  \"R\"]:\n",
    "        if x == \"L\":\n",
    "            a += d\n",
    "        else:\n",
    "            a -= d\n",
    "        a %= 360\n",
    "    elif x == \"F\":\n",
    "        x = direction[a]\n",
    "\n",
    "    if x == \"N\":\n",
    "        y_s += d\n",
    "    elif x == \"W\":\n",
    "        x_s += d\n",
    "    elif x == \"S\":\n",
    "        y_s -= d\n",
    "    elif x == \"E\":\n",
    "        x_s -= d\n",
    "\n",
    "    # print(ins, x_s, y_s, a)\n",
    "\n",
    "print(f\"Manhattan distance is {abs(x_s) + abs(y_s)}\")"
   ],
   "cell_type": "code",
   "metadata": {},
   "execution_count": 47,
   "outputs": [
    {
     "output_type": "stream",
     "name": "stdout",
     "text": [
      "Manhattan distance is 1007\n"
     ]
    }
   ]
  }
 ]
}