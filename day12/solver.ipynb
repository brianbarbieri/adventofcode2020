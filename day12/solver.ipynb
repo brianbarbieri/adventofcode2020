{
 "metadata": {
  "language_info": {
   "codemirror_mode": {
    "name": "ipython",
    "version": 3
   },
   "file_extension": ".py",
   "mimetype": "text/x-python",
   "name": "python",
   "nbconvert_exporter": "python",
   "pygments_lexer": "ipython3",
   "version": "3.7.5-final"
  },
  "orig_nbformat": 2,
  "kernelspec": {
   "name": "python3",
   "display_name": "Python 3.7.5 64-bit",
   "metadata": {
    "interpreter": {
     "hash": "28e29083dba6c505f2c0c3ef6a15213a3325434cd0dcd541212018311d29dc30"
    }
   }
  }
 },
 "nbformat": 4,
 "nbformat_minor": 2,
 "cells": [
  {
   "cell_type": "code",
   "execution_count": 13,
   "metadata": {},
   "outputs": [],
   "source": [
    "with open(\"data.txt\", \"r\") as r:\n",
    "    data = [l.replace(\"\\n\", \"\") for l in r.readlines()]\n",
    "\n",
    "instructions = [(d[0], int(d[1:])) for d in data]"
   ]
  },
  {
   "source": [
    "# part 1\n",
    "direction = {\n",
    "    0 : \"N\",\n",
    "    90 : \"W\",\n",
    "    180 : \"S\",\n",
    "    270 : \"E\"\n",
    "}\n",
    "\n",
    "x_s, y_s, a = 0, 0, 270\n",
    "\n",
    "for ins in instructions:\n",
    "    x, d = ins\n",
    "\n",
    "    if x in [\"L\",  \"R\"]:\n",
    "        if x == \"L\":\n",
    "            a += d\n",
    "        else:\n",
    "            a -= d\n",
    "        a %= 360\n",
    "    elif x == \"F\":\n",
    "        x = direction[a]\n",
    "\n",
    "    if x == \"N\":\n",
    "        y_s += d\n",
    "    elif x == \"W\":\n",
    "        x_s += d\n",
    "    elif x == \"S\":\n",
    "        y_s -= d\n",
    "    elif x == \"E\":\n",
    "        x_s -= d\n",
    "\n",
    "print(f\"Manhattan distance is {abs(x_s) + abs(y_s)}\")"
   ],
   "cell_type": "code",
   "metadata": {},
   "execution_count": 14,
   "outputs": [
    {
     "output_type": "stream",
     "name": "stdout",
     "text": [
      "Manhattan distance is 1007\n"
     ]
    }
   ]
  },
  {
   "cell_type": "code",
   "execution_count": 17,
   "metadata": {},
   "outputs": [
    {
     "output_type": "stream",
     "name": "stdout",
     "text": [
      "Manhattan distance is 41212\n"
     ]
    }
   ],
   "source": [
    "# part 2\n",
    "visualize = False # rather slow if true\n",
    "\n",
    "import plotly.graph_objects as go\n",
    "import colorsys\n",
    "\n",
    "def get_N_HexCol(N=5):\n",
    "    HSV_tuples = [(x * 1.0 / N, 0.5, 0.5) for x in range(N)]\n",
    "    hex_out = []\n",
    "    for rgb in HSV_tuples:\n",
    "        rgb = map(lambda x: int(x * 255), colorsys.hsv_to_rgb(*rgb))\n",
    "        hex_out.append('#%02x%02x%02x' % tuple(rgb))\n",
    "    return hex_out\n",
    "\n",
    "if visualize:\n",
    "    cols = get_N_HexCol(len(instructions))\n",
    "    fig = go.Figure(layout_xaxis_range=[-1000,1000], layout_yaxis_range=[-1000,1000])\n",
    "\n",
    "x_w, y_w, x_s, y_s = 10, 1, 0, 0\n",
    "\n",
    "prev_x_s, prev_y_s = x_s, y_s\n",
    "for i, (ins) in enumerate(instructions):\n",
    "    x, d = ins\n",
    "\n",
    "    if x == \"L\":\n",
    "        if d == 90:\n",
    "            x_w, y_w = -y_w, x_w\n",
    "        elif d == 180:\n",
    "            x_w, y_w = -x_w, -y_w\n",
    "        elif d == 270:\n",
    "            x_w, y_w = y_w, -x_w\n",
    "    elif x == \"R\":\n",
    "        if d == 90:\n",
    "            x_w, y_w = y_w, -x_w\n",
    "        elif d == 180:\n",
    "            x_w, y_w = -x_w, -y_w\n",
    "        elif d == 270:\n",
    "            x_w, y_w = -y_w, x_w\n",
    "    elif x == \"F\":\n",
    "        x_s += x_w * d\n",
    "        y_s += y_w * d\n",
    "    elif x == \"N\":\n",
    "        y_w += d\n",
    "    elif x == \"W\":\n",
    "        x_w -= d\n",
    "    elif x == \"S\":\n",
    "        y_w -= d\n",
    "    elif x == \"E\":\n",
    "        x_w += d\n",
    "\n",
    "    if visualize:\n",
    "        fig.add_annotation(\n",
    "            x=x_s,  # arrows' head\n",
    "            y=y_s,  # arrows' head\n",
    "            ax=prev_x_s,  # arrows' tail\n",
    "            ay=prev_y_s,  # arrows' tail\n",
    "            xref='x',\n",
    "            yref='y',\n",
    "            axref='x',\n",
    "            ayref='y',\n",
    "            text=i,\n",
    "            showarrow=True,\n",
    "            arrowhead=3,\n",
    "            arrowsize=1,\n",
    "            arrowwidth=1,\n",
    "            arrowcolor=cols[i]\n",
    "        )\n",
    "        prev_x_s, prev_y_s = x_s, y_s\n",
    "\n",
    "print(f\"Manhattan distance is {abs(x_s) + abs(y_s)}\")\n",
    "if visualize:\n",
    "    fig.show()"
   ]
  }
 ]
}