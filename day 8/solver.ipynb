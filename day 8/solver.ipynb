{
 "metadata": {
  "language_info": {
   "codemirror_mode": {
    "name": "ipython",
    "version": 3
   },
   "file_extension": ".py",
   "mimetype": "text/x-python",
   "name": "python",
   "nbconvert_exporter": "python",
   "pygments_lexer": "ipython3",
   "version": "3.7.5-final"
  },
  "orig_nbformat": 2,
  "kernelspec": {
   "name": "python37564bit4f715feaabd84934814c0b534e0d650d",
   "display_name": "Python 3.7.5 64-bit",
   "language": "python"
  }
 },
 "nbformat": 4,
 "nbformat_minor": 2,
 "cells": [
  {
   "cell_type": "code",
   "execution_count": 1,
   "metadata": {},
   "outputs": [],
   "source": [
    "with open(\"data.txt\", \"r\") as r:\n",
    "    data = [l.replace(\"\\n\", \"\").split(\" \") for l in r.readlines()]"
   ]
  },
  {
   "cell_type": "code",
   "execution_count": 88,
   "metadata": {},
   "outputs": [
    {
     "output_type": "stream",
     "name": "stdout",
     "text": [
      "[['nop', '+0'], ['acc', '+1'], ['jmp', '+4'], ['acc', '+3'], ['jmp', '-3'], ['acc', '-99'], ['acc', '+1'], ['jmp', '-4'], ['acc', '+6']]\nAcummulator value: 5\n"
     ]
    }
   ],
   "source": [
    "# part 1\n",
    "\n",
    "def run_commands(data):\n",
    "    accumulator = 0\n",
    "    indexes = []\n",
    "    current_index = 0\n",
    "\n",
    "    print(data)\n",
    "\n",
    "    while True:\n",
    "        if current_index in indexes:\n",
    "            return accumulator\n",
    "        indexes.append(current_index)\n",
    "        current_command, value = data[current_index]\n",
    "        if current_command == \"nop\":\n",
    "            current_index += 1\n",
    "        elif current_command == \"acc\":\n",
    "            current_index += 1\n",
    "            accumulator += int(value)\n",
    "        else: \n",
    "            current_index += int(value)\n",
    "        \n",
    "acc = run_commands(data)\n",
    "print(f\"Acummulator value: {accumulator}\")\n"
   ]
  },
  {
   "cell_type": "code",
   "execution_count": 94,
   "metadata": {},
   "outputs": [
    {
     "output_type": "stream",
     "name": "stdout",
     "text": [
      "[['nop', '+0'], ['acc', '+1'], ['jmp', '+4'], ['acc', '+3'], ['jmp', '-3'], ['acc', '-99'], ['acc', '+1'], ['nop', '-4'], ['acc', '+6']]\n"
     ]
    },
    {
     "output_type": "error",
     "ename": "IndexError",
     "evalue": "list index out of range",
     "traceback": [
      "\u001b[1;31m---------------------------------------------------------------------------\u001b[0m",
      "\u001b[1;31mIndexError\u001b[0m                                Traceback (most recent call last)",
      "\u001b[1;32m<ipython-input-94-cde5a1a59ef9>\u001b[0m in \u001b[0;36m<module>\u001b[1;34m\u001b[0m\n\u001b[0;32m     12\u001b[0m     \u001b[0mnew_list\u001b[0m \u001b[1;33m=\u001b[0m \u001b[0mcopy\u001b[0m\u001b[1;33m.\u001b[0m\u001b[0mdeepcopy\u001b[0m\u001b[1;33m(\u001b[0m\u001b[0md\u001b[0m\u001b[1;33m)\u001b[0m\u001b[1;33m\u001b[0m\u001b[1;33m\u001b[0m\u001b[0m\n\u001b[0;32m     13\u001b[0m     \u001b[0mnew_list\u001b[0m\u001b[1;33m[\u001b[0m\u001b[0mindex_picked\u001b[0m\u001b[1;33m,\u001b[0m\u001b[1;36m0\u001b[0m\u001b[1;33m]\u001b[0m \u001b[1;33m=\u001b[0m \u001b[0mreverse_com\u001b[0m\u001b[1;33m[\u001b[0m\u001b[0mpicked_com\u001b[0m\u001b[1;33m]\u001b[0m\u001b[1;33m\u001b[0m\u001b[1;33m\u001b[0m\u001b[0m\n\u001b[1;32m---> 14\u001b[1;33m     \u001b[0macc\u001b[0m \u001b[1;33m=\u001b[0m \u001b[0mrun_commands\u001b[0m\u001b[1;33m(\u001b[0m\u001b[0mnew_list\u001b[0m\u001b[1;33m.\u001b[0m\u001b[0mtolist\u001b[0m\u001b[1;33m(\u001b[0m\u001b[1;33m)\u001b[0m\u001b[1;33m)\u001b[0m\u001b[1;33m\u001b[0m\u001b[1;33m\u001b[0m\u001b[0m\n\u001b[0m\u001b[0;32m     15\u001b[0m \u001b[1;33m\u001b[0m\u001b[0m\n\u001b[0;32m     16\u001b[0m     \u001b[0mfound_end\u001b[0m \u001b[1;33m=\u001b[0m \u001b[1;32mTrue\u001b[0m\u001b[1;33m\u001b[0m\u001b[1;33m\u001b[0m\u001b[0m\n",
      "\u001b[1;32m<ipython-input-88-ff11c2045278>\u001b[0m in \u001b[0;36mrun_commands\u001b[1;34m(data)\u001b[0m\n\u001b[0;32m     12\u001b[0m             \u001b[1;32mreturn\u001b[0m \u001b[0maccumulator\u001b[0m\u001b[1;33m\u001b[0m\u001b[1;33m\u001b[0m\u001b[0m\n\u001b[0;32m     13\u001b[0m         \u001b[0mindexes\u001b[0m\u001b[1;33m.\u001b[0m\u001b[0mappend\u001b[0m\u001b[1;33m(\u001b[0m\u001b[0mcurrent_index\u001b[0m\u001b[1;33m)\u001b[0m\u001b[1;33m\u001b[0m\u001b[1;33m\u001b[0m\u001b[0m\n\u001b[1;32m---> 14\u001b[1;33m         \u001b[0mcurrent_command\u001b[0m\u001b[1;33m,\u001b[0m \u001b[0mvalue\u001b[0m \u001b[1;33m=\u001b[0m \u001b[0mdata\u001b[0m\u001b[1;33m[\u001b[0m\u001b[0mcurrent_index\u001b[0m\u001b[1;33m]\u001b[0m\u001b[1;33m\u001b[0m\u001b[1;33m\u001b[0m\u001b[0m\n\u001b[0m\u001b[0;32m     15\u001b[0m         \u001b[1;32mif\u001b[0m \u001b[0mcurrent_command\u001b[0m \u001b[1;33m==\u001b[0m \u001b[1;34m\"nop\"\u001b[0m\u001b[1;33m:\u001b[0m\u001b[1;33m\u001b[0m\u001b[1;33m\u001b[0m\u001b[0m\n\u001b[0;32m     16\u001b[0m             \u001b[0mcurrent_index\u001b[0m \u001b[1;33m+=\u001b[0m \u001b[1;36m1\u001b[0m\u001b[1;33m\u001b[0m\u001b[1;33m\u001b[0m\u001b[0m\n",
      "\u001b[1;31mIndexError\u001b[0m: list index out of range"
     ]
    }
   ],
   "source": [
    "# part 2\n",
    "import numpy as np\n",
    "import copy\n",
    "\n",
    "d = np.array(data)\n",
    "\n",
    "found_end = False\n",
    "while not found_end:\n",
    "    picked_com = np.random.choice([\"jmp\", \"nop\"])\n",
    "    index_picked = np.random.choice(np.where(d == picked_com)[0])\n",
    "    reverse_com = {\"jmp\" : \"nop\", \"nop\" : \"jmp\"}\n",
    "    new_list = copy.deepcopy(d)\n",
    "    new_list[index_picked,0] = reverse_com[picked_com]\n",
    "    acc = run_commands(new_list.tolist())\n",
    "\n",
    "    found_end = True\n",
    "print(f\"Acummulator value: {acc}\")"
   ]
  },
  {
   "cell_type": "code",
   "execution_count": null,
   "metadata": {},
   "outputs": [],
   "source": []
  },
  {
   "cell_type": "code",
   "execution_count": null,
   "metadata": {},
   "outputs": [],
   "source": []
  }
 ]
}