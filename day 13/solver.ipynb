{
 "metadata": {
  "language_info": {
   "codemirror_mode": {
    "name": "ipython",
    "version": 3
   },
   "file_extension": ".py",
   "mimetype": "text/x-python",
   "name": "python",
   "nbconvert_exporter": "python",
   "pygments_lexer": "ipython3",
   "version": "3.7.5-final"
  },
  "orig_nbformat": 2,
  "kernelspec": {
   "name": "python3",
   "display_name": "Python 3.7.5 64-bit",
   "metadata": {
    "interpreter": {
     "hash": "28e29083dba6c505f2c0c3ef6a15213a3325434cd0dcd541212018311d29dc30"
    }
   }
  }
 },
 "nbformat": 4,
 "nbformat_minor": 2,
 "cells": [
  {
   "cell_type": "code",
   "execution_count": 94,
   "metadata": {},
   "outputs": [
    {
     "output_type": "stream",
     "name": "stdout",
     "text": [
      "The answer is 205\n"
     ]
    }
   ],
   "source": [
    "#part 1\n",
    "import numpy as np \n",
    "\n",
    "with open(\"data.txt\", \"r\") as r:\n",
    "    data = [l.replace(\"\\n\", \"\") for l in r.readlines()]\n",
    "    earliest_time = int(data[0])\n",
    "    busses = np.array([int(x) for x in data[1].replace(\"x,\", \"\").split(\",\")])\n",
    "\n",
    "till_arrival =  busses - (earliest_time % busses)\n",
    "bus_to_take, to_wait = busses[till_arrival.argmin()], till_arrival.min()\n",
    "print(f\"The answer is {bus_to_take * to_wait}\")"
   ]
  },
  {
   "cell_type": "code",
   "execution_count": 110,
   "metadata": {},
   "outputs": [
    {
     "output_type": "stream",
     "name": "stdout",
     "text": [
      "The answer is 803025030761664\n"
     ]
    }
   ],
   "source": [
    "#part 2, uses stupid chinese remainder solution, making it hard too solve without knowing this is a thing\n",
    "from functools import reduce\n",
    "        \n",
    "def chinese_remainder(remainders, divisors):\n",
    "    M = prod(divisors)\n",
    "    as_ = list(map(lambda d: int(M / d), divisors))\n",
    "    eea_results = map(lambda tup: extended_gcd(*tup), zip(as_, divisors))\n",
    "    is_ = [result[0] % div for result, div in zip(eea_results, divisors)]\n",
    "    Z = sum(map(prod, zip(is_, remainders, as_)))\n",
    "    x = Z % M\n",
    "    return x\n",
    "\n",
    "def prod(nums):\n",
    "    return reduce(lambda a, b: a * b, nums, 1)\n",
    "\n",
    "def extended_gcd(a, b):\n",
    "    # EEA\n",
    "    old_r, r = a, b\n",
    "    old_s, s = 1, 0\n",
    "    old_t, t = 0, 1\n",
    "\n",
    "    while r != 0:\n",
    "        quotient = old_r // r\n",
    "        old_r, r = r, old_r - quotient * r\n",
    "        old_s, s = s, old_s - quotient * s\n",
    "        old_t, t = t, old_t - quotient * t\n",
    "\n",
    "    return old_s, old_t, old_r # return Bezout coefficient 1, 2, and the gcd\n",
    "\n",
    "with open('data.txt', 'r') as file:\n",
    "    lines = list(map(lambda line: line.rstrip(), file.readlines()))\n",
    "\n",
    "inds_and_nums = [(ind, int(elem)) for ind, elem in enumerate(lines[1].split(',')) if elem != 'x']\n",
    "\n",
    "rests, divisors = [], []\n",
    "for (ind, num) in inds_and_nums:\n",
    "    rests.append((-ind) % num)\n",
    "    divisors.append(num)\n",
    "\n",
    "solution = chinese_remainder(rests, divisors)\n",
    "print(f'The answer is {solution}')"
   ]
  }
 ]
}