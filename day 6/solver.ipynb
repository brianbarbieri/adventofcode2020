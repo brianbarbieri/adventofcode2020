{
 "metadata": {
  "language_info": {
   "codemirror_mode": {
    "name": "ipython",
    "version": 3
   },
   "file_extension": ".py",
   "mimetype": "text/x-python",
   "name": "python",
   "nbconvert_exporter": "python",
   "pygments_lexer": "ipython3",
   "version": "3.7.5-final"
  },
  "orig_nbformat": 2,
  "kernelspec": {
   "name": "python3",
   "display_name": "Python 3"
  }
 },
 "nbformat": 4,
 "nbformat_minor": 2,
 "cells": [
  {
   "cell_type": "code",
   "execution_count": 27,
   "metadata": {},
   "outputs": [],
   "source": [
    "with open(\"data.txt\", \"r\") as r:\n",
    "    data = r.read().replace(\" \", \"\\n\\n\")\n",
    "    groups = data.split(\"\\n\\n\")\n",
    "    groups = [group.split(\"\\n\") for group in groups]"
   ]
  },
  {
   "cell_type": "code",
   "execution_count": 28,
   "metadata": {},
   "outputs": [
    {
     "output_type": "stream",
     "name": "stdout",
     "text": [
      "The total score is: 6549\n"
     ]
    }
   ],
   "source": [
    "# part 1\n",
    "total_score = 0\n",
    "for group in groups:\n",
    "    score = 0\n",
    "    # char_list = [char for char in \"abcdefghijklmnopqrstuvwxyz\"]\n",
    "    found_char_list = []\n",
    "    for person in group:\n",
    "        for answer in person:\n",
    "            if answer not in found_char_list:\n",
    "                score += 1\n",
    "                found_char_list.append(answer)\n",
    "    total_score += score\n",
    "\n",
    "print(f\"The total score is: {total_score}\")"
   ]
  },
  {
   "cell_type": "code",
   "execution_count": 29,
   "metadata": {},
   "outputs": [
    {
     "output_type": "stream",
     "name": "stdout",
     "text": [
      "The total score is: 3466\n"
     ]
    }
   ],
   "source": [
    "# part 2\n",
    "total_score = 0\n",
    "for group in groups:\n",
    "    \n",
    "    char_dict = {char:0 for char in \"abcdefghijklmnopqrstuvwxyz\"}\n",
    "    found_char_list = []\n",
    "    for person in group:\n",
    "        for answer in person:\n",
    "            char_dict[answer] += 1\n",
    "\n",
    "    score = 0\n",
    "    for char in char_dict:\n",
    "        if char_dict[char] == len(group):\n",
    "            score += 1\n",
    "    total_score += score\n",
    "\n",
    "print(f\"The total score is: {total_score}\")"
   ]
  },
  {
   "cell_type": "code",
   "execution_count": null,
   "metadata": {},
   "outputs": [],
   "source": []
  }
 ]
}