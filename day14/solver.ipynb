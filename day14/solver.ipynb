{
 "metadata": {
  "language_info": {
   "codemirror_mode": {
    "name": "ipython",
    "version": 3
   },
   "file_extension": ".py",
   "mimetype": "text/x-python",
   "name": "python",
   "nbconvert_exporter": "python",
   "pygments_lexer": "ipython3",
   "version": "3.7.5-final"
  },
  "orig_nbformat": 2,
  "kernelspec": {
   "name": "python3",
   "display_name": "Python 3.7.5 64-bit",
   "metadata": {
    "interpreter": {
     "hash": "28e29083dba6c505f2c0c3ef6a15213a3325434cd0dcd541212018311d29dc30"
    }
   }
  }
 },
 "nbformat": 4,
 "nbformat_minor": 2,
 "cells": [
  {
   "cell_type": "code",
   "execution_count": 24,
   "metadata": {},
   "outputs": [],
   "source": [
    "#part 1\n",
    "import numpy as np \n",
    "import re\n",
    "\n",
    "with open(\"data.txt\", \"r\") as r:\n",
    "    data = [l.replace(\"\\n\", \"\") for l in r.readlines()]"
   ]
  },
  {
   "cell_type": "code",
   "execution_count": 52,
   "metadata": {},
   "outputs": [
    {
     "output_type": "stream",
     "name": "stdout",
     "text": [
      "Anser is 165\n"
     ]
    }
   ],
   "source": [
    "regex = \"\\[(\\d+)\\] = (\\d+)\"\n",
    "\n",
    "memory = {}\n",
    "mask = None\n",
    "for com in data:\n",
    "    if \"mask\" in com:\n",
    "        mask = com.split(\" = \")[-1]\n",
    "        \n",
    "        bin_mask = np.array([True if p != \"X\" else False for p in mask])\n",
    "        mask = np.array([-1 if p == \"X\" else int(p)for p in mask])\n",
    "    else:\n",
    "        mem_loc, value = map(int, re.search(regex, com).groups())\n",
    "        bin_val = a = np.array([int(s) for s in '{0:036b}'.format(value)])\n",
    "        bin_val[bin_mask] = mask[bin_mask]\n",
    "        dec_val = int(\"\".join(bin_val.astype(str)), 2)\n",
    "        memory[mem_loc] =  dec_val\n",
    "        \n",
    "print(f\"Anwser is {sum(memory.values())}\")       "
   ]
  },
  {
   "cell_type": "code",
   "execution_count": 45,
   "metadata": {},
   "outputs": [
    {
     "output_type": "execute_result",
     "data": {
      "text/plain": [
       "64"
      ]
     },
     "metadata": {},
     "execution_count": 45
    }
   ],
   "source": [
    "a = \n",
    "int(a, 2)"
   ]
  },
  {
   "cell_type": "code",
   "execution_count": 44,
   "metadata": {},
   "outputs": [
    {
     "output_type": "execute_result",
     "data": {
      "text/plain": [
       "101"
      ]
     },
     "metadata": {},
     "execution_count": 44
    }
   ],
   "source": [
    "int(\"1100101\", 2)"
   ]
  },
  {
   "cell_type": "code",
   "execution_count": null,
   "metadata": {},
   "outputs": [],
   "source": []
  }
 ]
}