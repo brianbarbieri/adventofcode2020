{
 "metadata": {
  "language_info": {
   "codemirror_mode": {
    "name": "ipython",
    "version": 3
   },
   "file_extension": ".py",
   "mimetype": "text/x-python",
   "name": "python",
   "nbconvert_exporter": "python",
   "pygments_lexer": "ipython3",
   "version": "3.7.5-final"
  },
  "orig_nbformat": 2,
  "kernelspec": {
   "name": "python3",
   "display_name": "Python 3.7.5 64-bit",
   "metadata": {
    "interpreter": {
     "hash": "28e29083dba6c505f2c0c3ef6a15213a3325434cd0dcd541212018311d29dc30"
    }
   }
  }
 },
 "nbformat": 4,
 "nbformat_minor": 2,
 "cells": [
  {
   "cell_type": "code",
   "execution_count": 1,
   "metadata": {},
   "outputs": [],
   "source": [
    "with open(\"data.txt\", \"r\") as r:\n",
    "    data = [l.replace(\"\\n\", \"\") for l in r.readlines()]\n",
    "\n",
    "instructions = [(d[0], int(d[1:])) for d in data]"
   ]
  },
  {
   "source": [
    "%%timeit\n",
    "\n",
    "# part 1\n",
    "direction = {\n",
    "    0 : \"N\",\n",
    "    90 : \"W\",\n",
    "    180 : \"S\",\n",
    "    270 : \"E\"\n",
    "}\n",
    "\n",
    "x_s, y_s, a = 0, 0, 270\n",
    "\n",
    "for ins in instructions:\n",
    "    x, d = ins\n",
    "\n",
    "    if x in [\"L\",  \"R\"]:\n",
    "        if x == \"L\":\n",
    "            a += d\n",
    "        else:\n",
    "            a -= d\n",
    "        a %= 360\n",
    "    elif x == \"F\":\n",
    "        x = direction[a]\n",
    "\n",
    "    if x == \"N\":\n",
    "        y_s += d\n",
    "    elif x == \"W\":\n",
    "        x_s += d\n",
    "    elif x == \"S\":\n",
    "        y_s -= d\n",
    "    elif x == \"E\":\n",
    "        x_s -= d\n",
    "\n",
    "# print(f\"Manhattan distance is {abs(x_s) + abs(y_s)}\")"
   ],
   "cell_type": "code",
   "metadata": {},
   "execution_count": 6,
   "outputs": [
    {
     "output_type": "stream",
     "name": "stdout",
     "text": [
      "180 µs ± 8.65 µs per loop (mean ± std. dev. of 7 runs, 10000 loops each)\n"
     ]
    }
   ]
  },
  {
   "cell_type": "code",
   "execution_count": 71,
   "metadata": {},
   "outputs": [
    {
     "output_type": "stream",
     "name": "stdout",
     "text": [
      "Manhattan distance is 41212\n"
     ]
    }
   ],
   "source": [
    "# %%timeit\n",
    "# part 2\n",
    "x_w, y_w, x_s, y_s = 10, 1, 0, 0\n",
    "\n",
    "for i, (ins) in enumerate(instructions):\n",
    "    x, d = ins\n",
    "\n",
    "    if x == \"L\":\n",
    "        if d == 90:\n",
    "            x_w, y_w = -y_w, x_w\n",
    "        elif d == 180:\n",
    "            x_w, y_w = -x_w, -y_w\n",
    "        elif d == 270:\n",
    "            x_w, y_w = y_w, -x_w\n",
    "    elif x == \"R\":\n",
    "        if d == 90:\n",
    "            x_w, y_w = y_w, -x_w\n",
    "        elif d == 180:\n",
    "            x_w, y_w = -x_w, -y_w\n",
    "        elif d == 270:\n",
    "            x_w, y_w = -y_w, x_w\n",
    "    elif x == \"F\":\n",
    "        x_s += x_w * d\n",
    "        y_s += y_w * d\n",
    "    elif x == \"N\":\n",
    "        y_w += d\n",
    "    elif x == \"W\":\n",
    "        x_w -= d\n",
    "    elif x == \"S\":\n",
    "        y_w -= d\n",
    "    elif x == \"E\":\n",
    "        x_w += d\n",
    "\n",
    "print(f\"Manhattan distance is {abs(x_s) + abs(y_s)}\")"
   ]
  },
  {
   "cell_type": "code",
   "execution_count": 5,
   "metadata": {},
   "outputs": [],
   "source": [
    "%load_ext Cython"
   ]
  },
  {
   "cell_type": "code",
   "execution_count": 27,
   "metadata": {},
   "outputs": [],
   "source": [
    "%%cython \n",
    "\n",
    "from libc.math cimport abs  \n",
    "\n",
    "cdef struct coord:\n",
    "    char letter\n",
    "    int number\n",
    "\n",
    "cpdef double part_2(instructions):\n",
    "    cdef int x_w, y_w, x_s, y_s\n",
    "    x_w, y_w, x_s, y_s = 10, 1, 0, 0\n",
    "\n",
    "    cdef int i, d\n",
    "    cdef str x\n",
    "    for i in range(len(instructions)):\n",
    "        x, d = instructions[i][0], instructions[i][1]\n",
    "        if x == \"L\":\n",
    "            if d == 90:\n",
    "                x_w, y_w = -y_w, x_w\n",
    "            elif d == 180:\n",
    "                x_w, y_w = -x_w, -y_w\n",
    "            elif d == 270:\n",
    "                x_w, y_w = y_w, -x_w\n",
    "        elif x == \"R\":\n",
    "            if d == 90:\n",
    "                x_w, y_w = y_w, -x_w\n",
    "            elif d == 180:\n",
    "                x_w, y_w = -x_w, -y_w\n",
    "            elif d == 270:\n",
    "                x_w, y_w = -y_w, x_w\n",
    "        elif x == \"F\":\n",
    "            x_s += x_w * d\n",
    "            y_s += y_w * d\n",
    "        elif x == \"N\":\n",
    "            y_w += d\n",
    "        elif x == \"W\":\n",
    "            x_w -= d\n",
    "        elif x == \"S\":\n",
    "            y_w -= d\n",
    "        elif x == \"E\":\n",
    "            x_w += d\n",
    "    return abs(x_s) + abs(y_s)"
   ]
  },
  {
   "cell_type": "code",
   "execution_count": 28,
   "metadata": {},
   "outputs": [
    {
     "output_type": "execute_result",
     "data": {
      "text/plain": [
       "41212.0"
      ]
     },
     "metadata": {},
     "execution_count": 28
    }
   ],
   "source": [
    "part_2(instructions)"
   ]
  },
  {
   "cell_type": "code",
   "execution_count": 68,
   "metadata": {},
   "outputs": [
    {
     "output_type": "execute_result",
     "data": {
      "text/plain": [
       "('L', 90)"
      ]
     },
     "metadata": {},
     "execution_count": 68
    }
   ],
   "source": [
    "instructions[0]"
   ]
  },
  {
   "cell_type": "code",
   "execution_count": 2,
   "metadata": {},
   "outputs": [],
   "source": [
    "from solution_1 import part_2"
   ]
  },
  {
   "cell_type": "code",
   "execution_count": 3,
   "metadata": {},
   "outputs": [
    {
     "output_type": "execute_result",
     "data": {
      "text/plain": [
       "41212.0"
      ]
     },
     "metadata": {},
     "execution_count": 3
    }
   ],
   "source": [
    "part_2(instructions)"
   ]
  },
  {
   "cell_type": "code",
   "execution_count": null,
   "metadata": {},
   "outputs": [],
   "source": []
  }
 ]
}