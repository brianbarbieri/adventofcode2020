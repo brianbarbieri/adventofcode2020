{
 "metadata": {
  "language_info": {
   "codemirror_mode": {
    "name": "ipython",
    "version": 3
   },
   "file_extension": ".py",
   "mimetype": "text/x-python",
   "name": "python",
   "nbconvert_exporter": "python",
   "pygments_lexer": "ipython3",
   "version": "3.7.5-final"
  },
  "orig_nbformat": 2,
  "kernelspec": {
   "name": "python3",
   "display_name": "Python 3"
  }
 },
 "nbformat": 4,
 "nbformat_minor": 2,
 "cells": [
  {
   "cell_type": "code",
   "execution_count": 81,
   "metadata": {},
   "outputs": [],
   "source": [
    "with open(\"data.txt\", \"r\") as r:\n",
    "    data = [p.replace(\"\\n\", \"\") for p in r.readlines()]\n",
    "\n",
    "data = [(p[:7], p[7:]) for p in data]"
   ]
  },
  {
   "cell_type": "code",
   "execution_count": 82,
   "metadata": {},
   "outputs": [
    {
     "output_type": "stream",
     "name": "stdout",
     "text": [
      "Maximum ID: 944\n"
     ]
    }
   ],
   "source": [
    "# part 1\n",
    "def partition_string(string, higher_val=\"B\"):\n",
    "\n",
    "    if higher_val == \"B\":\n",
    "        seats = list(range(127+1))\n",
    "    else:\n",
    "        seats = list(range(8+1))\n",
    "\n",
    "    for part in string:\n",
    "        # print(part, higher_val)\n",
    "        if part == higher_val:\n",
    "            seats = seats[int(len(seats)/2):]\n",
    "        else:\n",
    "            seats = seats[:int(len(seats)/2)]\n",
    "        # print(seats)\n",
    "    return seats[0]\n",
    "\n",
    "ids = []\n",
    "for seat in data:\n",
    "    ids.append(partition_string(seat[0]) * 8 + partition_string(seat[1], \"R\"))\n",
    "    \n",
    "print(f\"Maximum ID: {max(ids)}\")"
   ]
  },
  {
   "cell_type": "code",
   "execution_count": 88,
   "metadata": {},
   "outputs": [
    {
     "output_type": "stream",
     "name": "stdout",
     "text": [
      "Your id is 554\n"
     ]
    }
   ],
   "source": [
    "# part 2 \n",
    "sorted_ids = sorted(ids)\n",
    "for i in range(min(sorted_ids), max(sorted_ids)):\n",
    "    if i not in sorted_ids:\n",
    "        print(f\"Your id is {i}\")"
   ]
  },
  {
   "cell_type": "code",
   "execution_count": null,
   "metadata": {},
   "outputs": [],
   "source": []
  }
 ]
}