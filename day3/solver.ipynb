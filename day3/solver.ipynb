{
 "metadata": {
  "language_info": {
   "codemirror_mode": {
    "name": "ipython",
    "version": 3
   },
   "file_extension": ".py",
   "mimetype": "text/x-python",
   "name": "python",
   "nbconvert_exporter": "python",
   "pygments_lexer": "ipython3",
   "version": "3.7.5-final"
  },
  "orig_nbformat": 2,
  "kernelspec": {
   "name": "python3",
   "display_name": "Python 3"
  }
 },
 "nbformat": 4,
 "nbformat_minor": 2,
 "cells": [
  {
   "cell_type": "code",
   "execution_count": 72,
   "metadata": {},
   "outputs": [],
   "source": [
    "with open(\"data.txt\", \"r\") as r:\n",
    "    data = [[c for c in p.replace(\"\\n\", \"\")] for p in r.readlines()]\n",
    "    max_x, max_y = len(data), len(data[0])\n",
    "    data = [p*max_x for p in data]"
   ]
  },
  {
   "cell_type": "code",
   "execution_count": 73,
   "metadata": {},
   "outputs": [
    {
     "output_type": "stream",
     "name": "stdout",
     "text": [
      "225 trees encountered\n"
     ]
    }
   ],
   "source": [
    "# part 1\n",
    "def traverse(x,y):\n",
    "    return x+1, y+3\n",
    "\n",
    "pos = (0,0)\n",
    "trees = 0\n",
    "while pos[0] < max_x-1:\n",
    "    pos = traverse(*pos)\n",
    "    trees += int(data[pos[0]][pos[1]] == \"#\")\n",
    "print(f\"{trees} trees encountered\")\n"
   ]
  },
  {
   "cell_type": "code",
   "execution_count": 74,
   "metadata": {},
   "outputs": [
    {
     "output_type": "stream",
     "name": "stdout",
     "text": [
      "1115775000 trees encountered\n"
     ]
    }
   ],
   "source": [
    "# part 2\n",
    "import numpy as np \n",
    "\n",
    "def traverse(x,y, add_x, add_y):\n",
    "    return x+add_x, y+add_y\n",
    "\n",
    "trees = []\n",
    "combis = [[1,1],[1,3],[1,5],[1,7],[2,1]]\n",
    "for add_x, add_y in combis:\n",
    "    pos = (0,0)\n",
    "    tres = 0\n",
    "    while pos[0] < max_x-1:\n",
    "        pos = traverse(pos[0], pos[1], add_x, add_y)\n",
    "        tres += int(data[pos[0]][pos[1]] == \"#\")\n",
    "    trees.append(tres)\n",
    "        \n",
    "print(f\"{np.prod(trees)} trees encountered\")\n"
   ]
  },
  {
   "cell_type": "code",
   "execution_count": null,
   "metadata": {},
   "outputs": [],
   "source": []
  }
 ]
}