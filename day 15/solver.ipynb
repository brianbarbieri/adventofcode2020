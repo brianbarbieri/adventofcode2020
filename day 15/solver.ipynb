{
 "metadata": {
  "language_info": {
   "codemirror_mode": {
    "name": "ipython",
    "version": 3
   },
   "file_extension": ".py",
   "mimetype": "text/x-python",
   "name": "python",
   "nbconvert_exporter": "python",
   "pygments_lexer": "ipython3",
   "version": "3.7.5-final"
  },
  "orig_nbformat": 2,
  "kernelspec": {
   "name": "python3",
   "display_name": "Python 3.7.5 64-bit",
   "metadata": {
    "interpreter": {
     "hash": "28e29083dba6c505f2c0c3ef6a15213a3325434cd0dcd541212018311d29dc30"
    }
   }
  }
 },
 "nbformat": 4,
 "nbformat_minor": 2,
 "cells": [
  {
   "cell_type": "code",
   "execution_count": 22,
   "metadata": {},
   "outputs": [],
   "source": [
    "with open(\"data.txt\", \"r\") as r:\n",
    "    data = [int(l.replace(\"\\n\", \"\")) for l in r.readline().split(\",\")]"
   ]
  },
  {
   "cell_type": "code",
   "execution_count": 25,
   "metadata": {},
   "outputs": [
    {
     "output_type": "stream",
     "name": "stdout",
     "text": [
      "2020 852\n"
     ]
    }
   ],
   "source": [
    "#part 1\n",
    "import numpy as np\n",
    "\n",
    "end_game = 2020\n",
    "spoken_numbers = dict(zip(data, range(1, len(data)+1)))\n",
    "\n",
    "current_turn = len(data) + 1\n",
    "next_number = current_turn - spoken_numbers[data[-1]] - 1\n",
    "\n",
    "for i in range(current_turn, end_game+1):\n",
    "    number_spoken = next_number\n",
    "    try:\n",
    "        next_number = i - spoken_numbers[number_spoken]\n",
    "    except:\n",
    "        next_number = 0\n",
    "    spoken_numbers[number_spoken] = i\n",
    "print(i, number_spoken)"
   ]
  },
  {
   "cell_type": "code",
   "execution_count": 26,
   "metadata": {},
   "outputs": [
    {
     "output_type": "stream",
     "name": "stdout",
     "text": [
      "30000000 6007666\n"
     ]
    }
   ],
   "source": [
    "#part 2\n",
    "import numpy as np\n",
    "\n",
    "end_game = 30000000\n",
    "spoken_numbers = dict(zip(data, range(1, len(data)+1)))\n",
    "\n",
    "current_turn = len(data) + 1\n",
    "next_number = current_turn - spoken_numbers[data[-1]] - 1\n",
    "\n",
    "for i in range(current_turn, end_game+1):\n",
    "    number_spoken = next_number\n",
    "    try:\n",
    "        next_number = i - spoken_numbers[number_spoken]\n",
    "    except:\n",
    "        next_number = 0\n",
    "    spoken_numbers[number_spoken] = i\n",
    "print(i, number_spoken)"
   ]
  }
 ]
}