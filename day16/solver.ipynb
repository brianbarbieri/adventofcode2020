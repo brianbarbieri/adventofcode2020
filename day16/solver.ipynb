{
 "metadata": {
  "language_info": {
   "codemirror_mode": {
    "name": "ipython",
    "version": 3
   },
   "file_extension": ".py",
   "mimetype": "text/x-python",
   "name": "python",
   "nbconvert_exporter": "python",
   "pygments_lexer": "ipython3",
   "version": "3.7.5-final"
  },
  "orig_nbformat": 2,
  "kernelspec": {
   "name": "python3",
   "display_name": "Python 3.7.5 64-bit",
   "metadata": {
    "interpreter": {
     "hash": "28e29083dba6c505f2c0c3ef6a15213a3325434cd0dcd541212018311d29dc30"
    }
   }
  }
 },
 "nbformat": 4,
 "nbformat_minor": 2,
 "cells": [
  {
   "cell_type": "code",
   "execution_count": 30,
   "metadata": {},
   "outputs": [],
   "source": [
    "import re\n",
    "import operator\n",
    "from functools import reduce\n",
    "import numpy as np"
   ]
  },
  {
   "cell_type": "code",
   "execution_count": 31,
   "metadata": {},
   "outputs": [
    {
     "output_type": "execute_result",
     "data": {
      "text/plain": [
       "22000"
      ]
     },
     "metadata": {},
     "execution_count": 31
    }
   ],
   "source": [
    "#part 1\n",
    "with open(\"data.txt\", \"r\") as r:\n",
    "    data = [l.replace(\"\\n\", \"\") for l in r.readlines()]\n",
    "    rules, rest = data[:data.index(\"\")], data[data.index(\"\")+1:]\n",
    "    # my_ticket = [int(n) for n in rest[:rest.index(\"\")][-1].split(\",\")]\n",
    "    nearby_tickets = [[int(n) for n in elem.split(\",\")]  for elem in rest[rest.index(\"\")+2:]]\n",
    "    nearby_tickets = reduce(operator.concat, nearby_tickets)\n",
    "\n",
    "re_string = \"\\d+\"\n",
    "ranges = set()\n",
    "for rule in rules:\n",
    "    nums = list(map(int,re.findall(re_string, rule)))\n",
    "    ranges.update(set(range(nums[0], nums[1])))\n",
    "    ranges.update(set(range(nums[2], nums[3])))\n",
    "not_found = set(nearby_tickets) - ranges\n",
    "summation = 0\n",
    "for nf in not_found:\n",
    "    summation+= nf * nearby_tickets.count(nf)\n",
    "summation"
   ]
  },
  {
   "cell_type": "code",
   "execution_count": 32,
   "metadata": {},
   "outputs": [
    {
     "output_type": "execute_result",
     "data": {
      "text/plain": [
       "410460648673"
      ]
     },
     "metadata": {},
     "execution_count": 32
    }
   ],
   "source": [
    "#part 2\n",
    "with open(\"data.txt\", \"r\") as r:\n",
    "    data = [l.replace(\"\\n\", \"\") for l in r.readlines()]\n",
    "    rules, rest = data[:data.index(\"\")], data[data.index(\"\")+1:]\n",
    "    my_ticket = [int(n) for n in rest[:rest.index(\"\")][-1].split(\",\")]\n",
    "    nearby_tickets = [[int(n) for n in elem.split(\",\")]  for elem in rest[rest.index(\"\")+2:]]\n",
    "\n",
    "re_string = \"\\d+\"\n",
    "ranges = set()\n",
    "for rule in rules:\n",
    "    nums = list(map(int,re.findall(re_string, rule)))\n",
    "    ranges.update(set(range(nums[0], nums[1])))\n",
    "    ranges.update(set(range(nums[2], nums[3])))\n",
    "\n",
    "valid_nearby_tickets = []\n",
    "for nt in nearby_tickets:\n",
    "    not_found = set(nt) - ranges\n",
    "    if not not_found:\n",
    "        valid_nearby_tickets.append(nt)\n",
    "valid_nearby_tickets = np.array(valid_nearby_tickets)\n",
    "\n",
    "rule_dict = {}\n",
    "for rule in rules:\n",
    "    name = rule.split(\":\")[0]\n",
    "    nums = list(map(int,re.findall(re_string, rule)))\n",
    "    ranges = [*range(nums[0], nums[1]+1)] + [*range(nums[2], nums[3]+1)]\n",
    "    rule_dict[name] = ranges\n",
    "\n",
    "\n",
    "poss = {k : [] for k in rule_dict.keys()}\n",
    "for i in range(valid_nearby_tickets.shape[1]):\n",
    "    for key in rule_dict.keys():\n",
    "        if not set(valid_nearby_tickets[:,i]) - set(rule_dict[key]):\n",
    "            poss[key].append(i) \n",
    "\n",
    "answer_keys = {}\n",
    "while poss.keys():\n",
    "    single_keys = [k for k in poss.keys() if len(poss[k]) == 1]\n",
    "    for k in single_keys:\n",
    "        ans = poss[k][0]\n",
    "        answer_keys[k] = ans\n",
    "        del poss[k]     \n",
    "        for key in poss.keys():\n",
    "            try:\n",
    "                poss[key].remove(ans)\n",
    "            except: pass\n",
    "\n",
    "mult = 1\n",
    "for key in answer_keys.keys():\n",
    "    if \"departure\" in key:\n",
    "        mult *= my_ticket[answer_keys[key]]\n",
    "mult"
   ]
  }
 ]
}