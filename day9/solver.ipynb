{
 "metadata": {
  "language_info": {
   "codemirror_mode": {
    "name": "ipython",
    "version": 3
   },
   "file_extension": ".py",
   "mimetype": "text/x-python",
   "name": "python",
   "nbconvert_exporter": "python",
   "pygments_lexer": "ipython3",
   "version": "3.7.5-final"
  },
  "orig_nbformat": 2,
  "kernelspec": {
   "name": "python3",
   "display_name": "Python 3"
  }
 },
 "nbformat": 4,
 "nbformat_minor": 2,
 "cells": [
  {
   "cell_type": "code",
   "execution_count": 54,
   "metadata": {},
   "outputs": [],
   "source": [
    "# load data\n",
    "with open(\"data.txt\", \"r\") as r:\n",
    "    data = [int(l.replace(\"\\n\", \"\")) for l in r.readlines()]"
   ]
  },
  {
   "cell_type": "code",
   "execution_count": 60,
   "metadata": {},
   "outputs": [
    {
     "output_type": "stream",
     "name": "stdout",
     "text": [
      "Breaks at 3199139634\n"
     ]
    }
   ],
   "source": [
    "# part 1\n",
    "from itertools import combinations\n",
    "\n",
    "def xmas_decrypter(data, preamble_length=5):\n",
    "    for i in range(0,len(data)):\n",
    "        preamble = data[i:i+preamble_length]\n",
    "        next_number = data[i+preamble_length]\n",
    "        if not next_number in [c[0] + c[1] for c in combinations(preamble, 2)]:\n",
    "            return next_number\n",
    "\n",
    "break_number = xmas_decrypter(data,25)\n",
    "print(f\"Breaks at {break_number}\")"
   ]
  },
  {
   "cell_type": "code",
   "execution_count": 61,
   "metadata": {},
   "outputs": [
    {
     "output_type": "stream",
     "name": "stdout",
     "text": [
      "The encryption weakness is 438559930\n"
     ]
    }
   ],
   "source": [
    "# part 2\n",
    "def xmas_decrypter2(data, preamble_length=5):\n",
    "    for i in range(0,len(data)):\n",
    "        preamble = data[i:i+preamble_length]\n",
    "        next_number = data[i+preamble_length]\n",
    "        if not next_number in [c[0] + c[1] for c in combinations(preamble, 2)]:\n",
    "            return find_range(data[:i+preamble_length], next_number)\n",
    "\n",
    "def find_range(data, n):\n",
    "\n",
    "    def continuous(lst, length):\n",
    "        slices = []\n",
    "        for j in range(len(lst)-length + 1):\n",
    "            slices.append(lst[j:j+length])\n",
    "        return slices\n",
    "\n",
    "    for i in range(2, len(data)+1):\n",
    "        combs = continuous(data,i)     \n",
    "        for comb in combs:\n",
    "            if sum(comb) == n:\n",
    "                return min(comb) + max(comb)\n",
    "\n",
    "num = xmas_decrypter2(data,25)\n",
    "print(f\"The encryption weakness is {num}\")"
   ]
  },
  {
   "cell_type": "code",
   "execution_count": null,
   "metadata": {},
   "outputs": [],
   "source": []
  }
 ]
}