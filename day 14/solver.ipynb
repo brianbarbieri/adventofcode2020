{
 "metadata": {
  "language_info": {
   "codemirror_mode": {
    "name": "ipython",
    "version": 3
   },
   "file_extension": ".py",
   "mimetype": "text/x-python",
   "name": "python",
   "nbconvert_exporter": "python",
   "pygments_lexer": "ipython3",
   "version": "3.7.5-final"
  },
  "orig_nbformat": 2,
  "kernelspec": {
   "name": "python3",
   "display_name": "Python 3.7.5 64-bit",
   "metadata": {
    "interpreter": {
     "hash": "28e29083dba6c505f2c0c3ef6a15213a3325434cd0dcd541212018311d29dc30"
    }
   }
  }
 },
 "nbformat": 4,
 "nbformat_minor": 2,
 "cells": [
  {
   "cell_type": "code",
   "execution_count": 108,
   "metadata": {},
   "outputs": [],
   "source": [
    "import numpy as np \n",
    "import re\n",
    "\n",
    "with open(\"data.txt\", \"r\") as r:\n",
    "    data = [l.replace(\"\\n\", \"\") for l in r.readlines()]"
   ]
  },
  {
   "cell_type": "code",
   "execution_count": 109,
   "metadata": {},
   "outputs": [
    {
     "output_type": "stream",
     "name": "stdout",
     "text": [
      "Answer is 17765746710228\n"
     ]
    }
   ],
   "source": [
    "#part 1\n",
    "regex = \"\\[(\\d+)\\] = (\\d+)\"\n",
    "\n",
    "memory = {}\n",
    "mask = None\n",
    "for com in data:\n",
    "    if \"mask\" in com:\n",
    "        mask = com.split(\" = \")[-1]      \n",
    "        bin_mask = np.array([True if p != \"X\" else False for p in mask])\n",
    "        mask = np.array([-1 if p == \"X\" else int(p)for p in mask])\n",
    "    else:\n",
    "        mem_loc, value = map(int, re.search(regex, com).groups())\n",
    "        bin_val = np.array([int(s) for s in '{0:036b}'.format(value)])\n",
    "        bin_val[bin_mask] = mask[bin_mask]\n",
    "        dec_val = int(\"\".join(bin_val.astype(str)), 2)\n",
    "        memory[mem_loc] =  dec_val\n",
    "        \n",
    "print(f\"Answer is {sum(memory.values())}\")       "
   ]
  },
  {
   "cell_type": "code",
   "execution_count": 116,
   "metadata": {},
   "outputs": [
    {
     "output_type": "stream",
     "name": "stdout",
     "text": [
      "Answer is 4401465949086\n"
     ]
    }
   ],
   "source": [
    "#part 2\n",
    "def unfloat(string):\n",
    "    combs = [string]\n",
    "    while \"X\" in \"\".join(combs):\n",
    "        addrs = combs.pop(0)\n",
    "        idx = addrs.find(\"X\")\n",
    "        for c in [\"0\", \"1\"]:\n",
    "            addrs_l = [c for c in addrs]\n",
    "            addrs_l[addrs.find(\"X\")] = c\n",
    "            combs.append(\"\".join(addrs_l))\n",
    "    return combs \n",
    "\n",
    "regex = \"\\[(\\d+)\\] = (\\d+)\"\n",
    "\n",
    "memory = {}\n",
    "mask = None\n",
    "for com in data:\n",
    "    if \"mask\" in com:\n",
    "        mask = com.split(\" = \")[-1]      \n",
    "        mask = [p for p in mask]\n",
    "    else:\n",
    "        mem_loc, value = map(int, re.search(regex, com).groups())\n",
    "        bin_loc = np.array([int(s) for s in '{0:036b}'.format(mem_loc)])\n",
    "        masked_loc = []\n",
    "        for loc, ma in zip(bin_loc, mask):\n",
    "            \n",
    "            if (ma == \"X\") or (ma == \"1\"):\n",
    "                masked_loc.append(ma)\n",
    "            else:\n",
    "                masked_loc.append(str(loc))\n",
    "        addresses = unfloat(\"\".join(masked_loc))\n",
    "        for ad in addresses:\n",
    "            memory[int(ad, 2)] =  value\n",
    "\n",
    "print(f\"Answer is {sum(memory.values())}\")  "
   ]
  }
 ]
}