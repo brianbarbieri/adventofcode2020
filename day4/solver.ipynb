{
 "metadata": {
  "language_info": {
   "codemirror_mode": {
    "name": "ipython",
    "version": 3
   },
   "file_extension": ".py",
   "mimetype": "text/x-python",
   "name": "python",
   "nbconvert_exporter": "python",
   "pygments_lexer": "ipython3",
   "version": "3.7.5-final"
  },
  "orig_nbformat": 2,
  "kernelspec": {
   "name": "python3",
   "display_name": "Python 3"
  }
 },
 "nbformat": 4,
 "nbformat_minor": 2,
 "cells": [
  {
   "cell_type": "code",
   "execution_count": 101,
   "metadata": {},
   "outputs": [],
   "source": [
    "import re\n",
    "\n",
    "with open(\"data.txt\", \"r\") as r:\n",
    "    data = r.readlines()\n",
    "    passports = \"\".join(data).split(\"\\n\\n\")\n",
    "    passports = [dict([attr.split(\":\") for attr in re.split(' |\\n', passport)]) for passport in passports]"
   ]
  },
  {
   "cell_type": "code",
   "execution_count": 102,
   "metadata": {},
   "outputs": [
    {
     "output_type": "stream",
     "name": "stdout",
     "text": [
      "Amount of valid passports: 254\n"
     ]
    }
   ],
   "source": [
    "# part 1\n",
    "\n",
    "required_attr = (\"byr\", \"iyr\", \"eyr\", \"hgt\", \"hcl\", \"ecl\", \"pid\")\n",
    "\n",
    "valid_passports = 0\n",
    "for passport in passports:\n",
    "    valid_passports += int(set(required_attr) <= passport.keys())\n",
    "print(f\"Amount of valid passports: {valid_passports}\")"
   ]
  },
  {
   "cell_type": "code",
   "execution_count": 103,
   "metadata": {},
   "outputs": [
    {
     "output_type": "stream",
     "name": "stdout",
     "text": [
      "Amount of valid passports: 184\n"
     ]
    }
   ],
   "source": [
    "# part 2\n",
    "\n",
    "valid_passports = 0\n",
    "for passport in passports:\n",
    "    if set(required_attr) <= passport.keys():\n",
    "        bv = (1920 <= int(passport.get(\"byr\")) <= 2002)\n",
    "        iv = (2010 <= int(passport.get(\"iyr\")) <= 2020)\n",
    "        iv2 = (2020 <= int(passport.get(\"eyr\")) <= 2030)\n",
    "        \n",
    "        height_re = r\"([0-9]+)(in)|([0-9]+)(cm)\"\n",
    "        mtch = re.match(height_re, passport.get(\"hgt\"))\n",
    "        if mtch is None:\n",
    "            hv = False\n",
    "        else:\n",
    "            if mtch.groups()[0]:\n",
    "                hv = 59 <= int(mtch.groups()[0]) <= 76\n",
    "            elif mtch.groups()[2]:\n",
    "                hv = 150 <= int(mtch.groups()[2]) <= 193\n",
    "            else:\n",
    "                hv = False\n",
    "        colour_re= r\"#[0-9a-f]{0,6}\"\n",
    "        mtch = re.search(colour_re, passport.get(\"hcl\"))\n",
    "        cv = mtch is not None and len(passport.get(\"hcl\")) == 7\n",
    "\n",
    "        ev =  passport.get(\"ecl\") in (\"amb\", \"blu\", \"brn\", \"gry\", \"grn\", \"hzl\", \"oth\")\n",
    "        \n",
    "        pass_re =  r\"[0-9]{9}\"\n",
    "        mtch = re.search(pass_re, passport.get(\"pid\"))\n",
    "        pv = mtch is not None and len(passport.get(\"pid\")) == 9\n",
    "\n",
    "        valid_passports += int(bv and iv and iv2 and hv and cv and ev and pv)\n",
    "        \n",
    "print(f\"Amount of valid passports: {valid_passports}\")"
   ]
  },
  {
   "cell_type": "code",
   "execution_count": null,
   "metadata": {},
   "outputs": [],
   "source": []
  }
 ]
}