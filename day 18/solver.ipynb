{
 "metadata": {
  "language_info": {
   "codemirror_mode": {
    "name": "ipython",
    "version": 3
   },
   "file_extension": ".py",
   "mimetype": "text/x-python",
   "name": "python",
   "nbconvert_exporter": "python",
   "pygments_lexer": "ipython3",
   "version": "3.7.5-final"
  },
  "orig_nbformat": 2,
  "kernelspec": {
   "name": "python3",
   "display_name": "Python 3.7.5 64-bit",
   "metadata": {
    "interpreter": {
     "hash": "28e29083dba6c505f2c0c3ef6a15213a3325434cd0dcd541212018311d29dc30"
    }
   }
  }
 },
 "nbformat": 4,
 "nbformat_minor": 2,
 "cells": [
  {
   "cell_type": "code",
   "execution_count": 3,
   "metadata": {},
   "outputs": [],
   "source": [
    "import re\n",
    "\n",
    "with open(\"data.txt\", \"r\") as r:\n",
    "    data = [l.replace(\"\\n\", \"\") for l in r.readlines()]"
   ]
  },
  {
   "cell_type": "code",
   "execution_count": 4,
   "metadata": {},
   "outputs": [
    {
     "output_type": "execute_result",
     "data": {
      "text/plain": [
       "3885386961962"
      ]
     },
     "metadata": {},
     "execution_count": 4
    }
   ],
   "source": [
    "# part 1\n",
    "def left_to_right_solvep1(formula):\n",
    "    reg_digit = \"(\\d+)\"\n",
    "    reg_operator = \"([+*])\"\n",
    "    digits = re.findall(reg_digit, formula)\n",
    "    operators = re.findall(reg_operator, formula)\n",
    "    result = int(digits[0])\n",
    "    for i in range(1,len(operators)+1):\n",
    "        if operators[i-1] == \"+\":\n",
    "            result += int(digits[i])\n",
    "        else:\n",
    "            result *= int(digits[i])\n",
    "    return str(result)\n",
    "\n",
    "def calculate(s, calc_method):\n",
    "    inner_most_bracket_regex = \"\\([^()]+\\)\"\n",
    "    while \"(\" in s:\n",
    "        found_brackets = re.findall(inner_most_bracket_regex, s)\n",
    "        for bracket in found_brackets:\n",
    "            s =s[:s.find(bracket)] + calc_method(bracket[1:-1]) + s[s.find(bracket)+len(bracket):]\n",
    "    return int(calc_method(s))\n",
    "\n",
    "summation = 0\n",
    "for formula in data:\n",
    "    summation += calculate(formula, left_to_right_solvep1)\n",
    "summation"
   ]
  },
  {
   "cell_type": "code",
   "execution_count": 5,
   "metadata": {},
   "outputs": [
    {
     "output_type": "execute_result",
     "data": {
      "text/plain": [
       "112899558798666"
      ]
     },
     "metadata": {},
     "execution_count": 5
    }
   ],
   "source": [
    "def left_to_right_solve_p2(formula):\n",
    "    reg_plus = \"(\\d+ \\+ \\d+)\"\n",
    "    while \"+\" in formula:\n",
    "        plus = [(m.start(0), m.end(0)) for m in re.finditer(reg_plus, formula)][0]\n",
    "        s, e = plus\n",
    "        formula = formula[:s]+ left_to_right_solvep1(formula[s:e]) + formula[e:]\n",
    "\n",
    "    return left_to_right_solvep1(formula)\n",
    "\n",
    "with open(\"mysol.csv\", \"w\") as w:\n",
    "    summation = 0\n",
    "    for formula in data:\n",
    "        summation += calculate(formula, left_to_right_solve_p2)\n",
    "        w.write(f\"{formula}, {calculate(formula, left_to_right_solve_p2)}\\n\")\n",
    "summation "
   ]
  }
 ]
}