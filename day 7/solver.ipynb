{
 "metadata": {
  "language_info": {
   "codemirror_mode": {
    "name": "ipython",
    "version": 3
   },
   "file_extension": ".py",
   "mimetype": "text/x-python",
   "name": "python",
   "nbconvert_exporter": "python",
   "pygments_lexer": "ipython3",
   "version": "3.7.6-final"
  },
  "orig_nbformat": 2,
  "kernelspec": {
   "name": "python3",
   "display_name": "Python 3"
  }
 },
 "nbformat": 4,
 "nbformat_minor": 2,
 "cells": [
  {
   "cell_type": "code",
   "execution_count": 103,
   "metadata": {},
   "outputs": [],
   "source": [
    "with open(\"data.txt\", \"r\") as r:\n",
    "    data = [l.replace(\"\\n\", \"\").replace(\"bags\", \"bag\").replace(\"bag\", \"bags\") for l in r.readlines()]"
   ]
  },
  {
   "cell_type": "code",
   "execution_count": 109,
   "metadata": {},
   "outputs": [
    {
     "output_type": "stream",
     "name": "stdout",
     "text": [
      "326 bag colours that can eventually contain at least one shiny gold bag\n"
     ]
    }
   ],
   "source": [
    "# part 1\n",
    "\n",
    "import re\n",
    "\n",
    "# first split input up in dict with bagcol(key) in bagcols(list of values)\n",
    "# start with splitting up on contain:\n",
    "\n",
    "data_c = [line.split(\" contain \") for line in data]\n",
    "bag_regex = r\"[0-9]+ ([a-z ]+)\"\n",
    "\n",
    "bag_dict = {}\n",
    "for bag in data_c:\n",
    "    \n",
    "    bags = re.findall(bag_regex, bag[-1])\n",
    "    \n",
    "    for bg in bags:\n",
    "        if bg not in bag_dict:\n",
    "            bag_dict[bg] = set()\n",
    "        bag_dict[bg].add(bag[0])\n",
    "\n",
    "# now start with the \"shiny gold bags\" and iterate to see which bags to add\n",
    "found_bags = set()\n",
    "to_add = [\"shiny gold bags\"]\n",
    "while len(to_add) > 0:\n",
    "    current_bag = to_add.pop()\n",
    "    new_bags = bag_dict.get(current_bag)\n",
    "    if new_bags is not None:\n",
    "        for bag in new_bags:\n",
    "            found_bags.add(bag)\n",
    "        to_add += new_bags\n",
    "print(f\"{len(found_bags)} bag colours that can eventually contain at least one shiny gold bag\")"
   ]
  },
  {
   "cell_type": "code",
   "execution_count": 110,
   "metadata": {},
   "outputs": [
    {
     "output_type": "stream",
     "name": "stdout",
     "text": [
      "5635 individual bags\n"
     ]
    }
   ],
   "source": [
    "# part 2\n",
    "\n",
    "class Bag:\n",
    "\n",
    "    def __init__(self, colour, value, multifactor, childeren):\n",
    "        self.colour = colour\n",
    "        self.value = value\n",
    "        self.multifactor = multifactor\n",
    "        self.childeren = childeren\n",
    "\n",
    "    def __repr__(self):\n",
    "        return str([self.colour, self.value, self.multifactor, self.childeren])\n",
    "\n",
    "    def calculate_value(self):\n",
    "        return value*multifactor\n",
    "\n",
    "data_c = [line.split(\" contain \") for line in data]\n",
    "bag_regex = r\"([0-9]+) ([a-z ]+)\"\n",
    "\n",
    "bag_dict = {}\n",
    "for bag in data_c:\n",
    "    bags = re.findall(bag_regex, bag[-1])\n",
    "    bag_dict[bag[0]] = bags\n",
    "    \n",
    "score = -1\n",
    "bag_collection = [Bag(\"shiny gold bags\", 1, 1, bag_dict[\"shiny gold bags\"])]\n",
    "while len(bag_collection) > 0:\n",
    "    current_bag = bag_collection.pop()\n",
    "    score += current_bag.multifactor\n",
    "    for child in current_bag.childeren:\n",
    "        bag_collection.append(\n",
    "            Bag(child[-1], int(child[0]), current_bag.multifactor*int(child[0]), bag_dict[child[-1]])\n",
    "        )\n",
    "\n",
    "print(f\"{score} individual bags\")"
   ]
  }
 ]
}